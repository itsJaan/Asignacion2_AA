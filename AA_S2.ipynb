{
  "nbformat": 4,
  "nbformat_minor": 0,
  "metadata": {
    "colab": {
      "name": "AA_S2.ipynb",
      "provenance": [],
      "collapsed_sections": []
    },
    "kernelspec": {
      "name": "python3",
      "display_name": "Python 3"
    }
  },
  "cells": [
    {
      "cell_type": "markdown",
      "metadata": {
        "id": "zg0IRNn4e-jr"
      },
      "source": [
        "ANALISIS \n",
        "\n",
        "Divide y Venceras\n"
      ]
    },
    {
      "cell_type": "markdown",
      "metadata": {
        "id": "VlbE95TV-7et"
      },
      "source": [
        "Binary Search"
      ]
    },
    {
      "cell_type": "code",
      "metadata": {
        "id": "XbcoHXJXQlyu"
      },
      "source": [
        "def biSearch(lista, x):\n",
        "    if len(lista) == 0:\n",
        "      return False\n",
        "    else:\n",
        "        mid = len(lista) // 2\n",
        "        if lista[mid] == x:\n",
        "            return True\n",
        "        else:\n",
        "          if x > lista[mid]:\n",
        "            return biSearch(lista[mid+1:],x)\n",
        "          else:\n",
        "            return biSearch(lista[:mid],x)\n",
        "\n",
        "n = [2,10,17,25,38,55,89,99,120,150]\n",
        "biSearch(n, 120)"
      ],
      "execution_count": null,
      "outputs": []
    },
    {
      "cell_type": "markdown",
      "metadata": {
        "id": "dZBBIKm_xTwz"
      },
      "source": [
        "\n",
        "\n",
        "MergeSort"
      ]
    },
    {
      "cell_type": "code",
      "metadata": {
        "id": "TFcboHHEVjHV",
        "outputId": "766c5a18-8415-470e-bc55-6808fe4bfef2",
        "colab": {
          "base_uri": "https://localhost:8080/",
          "height": 34
        }
      },
      "source": [
        "def merge_sort(arr):\n",
        "    if len(arr)>1:\n",
        "        mid = len(arr)//2\n",
        "        izq = arr[:mid]\n",
        "        der = arr[mid:]\n",
        "        izq = merge_sort(izq)\n",
        "        der = merge_sort(der)\n",
        "        arr =[]\n",
        "\n",
        "        while len(izq)>0 and len(der)>0:\n",
        "            if izq[0]<der[0]:\n",
        "                arr.append(izq[0])\n",
        "                izq.pop(0)\n",
        "            else:\n",
        "                arr.append(der[0])\n",
        "                der.pop(0)\n",
        "        for i in izq:\n",
        "            arr.append(i)\n",
        "        for i in der:\n",
        "            arr.append(i)\n",
        "                \n",
        "    return arr\n",
        "\n",
        "a = [12, 11, 13, 5, 6, 7 , 18 , 20 , 15]\n",
        "print(merge_sort(a))"
      ],
      "execution_count": null,
      "outputs": [
        {
          "output_type": "stream",
          "text": [
            "[5, 6, 7, 11, 12, 13, 15, 18, 20]\n"
          ],
          "name": "stdout"
        }
      ]
    },
    {
      "cell_type": "markdown",
      "metadata": {
        "id": "HfQahu2E_DW1"
      },
      "source": [
        "Puntos Maximos"
      ]
    },
    {
      "cell_type": "code",
      "metadata": {
        "id": "I17sfaLb_Fe5"
      },
      "source": [
        "import math\n",
        "def mezclar(l1, l2):\n",
        "  if l1 != None and l2 != None:\n",
        "    print(l1 + l2)\n",
        "  else:\n",
        "    if l1 != None:\n",
        "      merge_sort(l1)\n",
        "      print(l1)\n",
        "    else:\n",
        "      merge_sort(l2)\n",
        "      print(l2)\n",
        "def maxPoints(lista, sl, sr):\n",
        "        if sl == sr:\n",
        "          return [lista[sl][1]]\n",
        "        if sl+1 == sr:\n",
        "          if lista[sl][0] > lista[sr][0] and lista[sl][1] > lista[sr][1]:\n",
        "            return [lista[sl][1]]\n",
        "          if lista[sr][0] > lista[sl][0] and lista[sr][1] > lista[sl][1]:\n",
        "            return [lista[sr][1]]\n",
        "          else:\n",
        "            return [lista[sl][1],lista[sr][1]]\n",
        "        dividir = math.ceil((sl + sr) / 2)\n",
        "        l1 = maxPoints(lista, sl, dividir)\n",
        "        l2 = maxPoints(lista, dividir+1, sr)\n",
        "        mezclar(l1,l2)\n"
      ],
      "execution_count": null,
      "outputs": []
    }
  ]
}